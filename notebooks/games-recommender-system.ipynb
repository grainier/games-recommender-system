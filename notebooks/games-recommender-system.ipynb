{
 "cells": [
  {
   "cell_type": "markdown",
   "source": [
    "# Building a Comprehensive Video Game Recommendation System\n",
    "\n",
    "## Introduction\n",
    "In the rapidly growing video game industry, players often face the challenge of discovering new games that match their interests and preferences. With thousands of games released across various platforms and genres, finding the next game to play can be overwhelming. This project aims to address this challenge by developing a comprehensive video game recommendation system.\n",
    "\n",
    "Leveraging the `Video Game Sales with Ratings` dataset from Kaggle, our objective is to create a recommender system that suggests video games based on user preferences and game similarities. The dataset includes key information about video games such as titles, platforms, release years, genres, sales figures, and ratings, providing a rich source of data for building our models.\n",
    "\n",
    "We will explore multiple recommendation approaches to ensure a robust and versatile system:\n",
    "1. **Cosine Similarity-Based Recommender:** A content-based approach that measures the similarity between games based on their attributes.\n",
    "2. **Simple Recommender:** A non-personalized recommendation method that suggests popular games based on sales and ratings.\n",
    "3. **Content-Based Recommender:** Utilizes text-based features like game descriptions to find similar games.\n",
    "4. **Collaborative Filtering:** A personalized recommendation method that leverages user interaction data to suggest games.\n",
    "\n",
    "The project will be structured as follows:\n",
    "1. **Dataset Overview:** Introducing the dataset and its features.\n",
    "2. **Exploratory Data Analysis (EDA):** Performing a detailed analysis to understand data distributions, trends, and patterns.\n",
    "3. **Data Cleaning and Preprocessing:** Preparing the data by handling missing values, outliers, and encoding categorical variables.\n",
    "4. **Feature Selection:** Identifying the most relevant features for building effective recommendation models.\n",
    "5. **Model Training:** Implementing and training multiple recommendation models.\n",
    "6. **Model Evaluation:** Evaluating the performance of each model using appropriate metrics.\n",
    "7. **Comparison and Final Model Selection:** Comparing the models and selecting the best performing one.\n",
    "\n",
    "Through this comprehensive approach, we aim to deliver a recommendation system that enhances the gaming experience by providing personalized and relevant game suggestions."
   ],
   "metadata": {
    "collapsed": false
   }
  },
  {
   "cell_type": "markdown",
   "source": [
    "## Dataset Overview\n",
    "The Dataset Overview section provides a comprehensive introduction to the Video_Games_Sales_as_at_22_Dec_2016.csv dataset. This dataset contains information about video game sales across various platforms up to December 22, 2016. It includes key features such as game titles, platforms, release years, genres, sales figures across different regions, and critic and user ratings. This section will load the dataset, display its structure, and summarize the main characteristics of the data, laying the foundation for further analysis and model building."
   ],
   "metadata": {
    "collapsed": false
   }
  },
  {
   "cell_type": "code",
   "execution_count": 4,
   "outputs": [],
   "source": [
    "# Importing necessary libraries\n",
    "\n",
    "import warnings\n",
    "\n",
    "import pandas as pd\n",
    "\n",
    "warnings.filterwarnings(\"ignore\")"
   ],
   "metadata": {
    "collapsed": false,
    "ExecuteTime": {
     "end_time": "2024-06-20T06:29:46.014375Z",
     "start_time": "2024-06-20T06:29:29.768866Z"
    }
   }
  },
  {
   "cell_type": "code",
   "execution_count": 5,
   "outputs": [
    {
     "name": "stdout",
     "output_type": "stream",
     "text": [
      "First few rows of the dataset:\n"
     ]
    },
    {
     "data": {
      "text/plain": "                       Name Platform  Year_of_Release         Genre Publisher  \\\n0                Wii Sports      Wii           2006.0        Sports  Nintendo   \n1         Super Mario Bros.      NES           1985.0      Platform  Nintendo   \n2            Mario Kart Wii      Wii           2008.0        Racing  Nintendo   \n3         Wii Sports Resort      Wii           2009.0        Sports  Nintendo   \n4  Pokemon Red/Pokemon Blue       GB           1996.0  Role-Playing  Nintendo   \n\n   NA_Sales  EU_Sales  JP_Sales  Other_Sales  Global_Sales  Critic_Score  \\\n0     41.36     28.96      3.77         8.45         82.53          76.0   \n1     29.08      3.58      6.81         0.77         40.24           NaN   \n2     15.68     12.76      3.79         3.29         35.52          82.0   \n3     15.61     10.93      3.28         2.95         32.77          80.0   \n4     11.27      8.89     10.22         1.00         31.37           NaN   \n\n   Critic_Count User_Score  User_Count Developer Rating  \n0          51.0          8       322.0  Nintendo      E  \n1           NaN        NaN         NaN       NaN    NaN  \n2          73.0        8.3       709.0  Nintendo      E  \n3          73.0          8       192.0  Nintendo      E  \n4           NaN        NaN         NaN       NaN    NaN  ",
      "text/html": "<div>\n<style scoped>\n    .dataframe tbody tr th:only-of-type {\n        vertical-align: middle;\n    }\n\n    .dataframe tbody tr th {\n        vertical-align: top;\n    }\n\n    .dataframe thead th {\n        text-align: right;\n    }\n</style>\n<table border=\"1\" class=\"dataframe\">\n  <thead>\n    <tr style=\"text-align: right;\">\n      <th></th>\n      <th>Name</th>\n      <th>Platform</th>\n      <th>Year_of_Release</th>\n      <th>Genre</th>\n      <th>Publisher</th>\n      <th>NA_Sales</th>\n      <th>EU_Sales</th>\n      <th>JP_Sales</th>\n      <th>Other_Sales</th>\n      <th>Global_Sales</th>\n      <th>Critic_Score</th>\n      <th>Critic_Count</th>\n      <th>User_Score</th>\n      <th>User_Count</th>\n      <th>Developer</th>\n      <th>Rating</th>\n    </tr>\n  </thead>\n  <tbody>\n    <tr>\n      <th>0</th>\n      <td>Wii Sports</td>\n      <td>Wii</td>\n      <td>2006.0</td>\n      <td>Sports</td>\n      <td>Nintendo</td>\n      <td>41.36</td>\n      <td>28.96</td>\n      <td>3.77</td>\n      <td>8.45</td>\n      <td>82.53</td>\n      <td>76.0</td>\n      <td>51.0</td>\n      <td>8</td>\n      <td>322.0</td>\n      <td>Nintendo</td>\n      <td>E</td>\n    </tr>\n    <tr>\n      <th>1</th>\n      <td>Super Mario Bros.</td>\n      <td>NES</td>\n      <td>1985.0</td>\n      <td>Platform</td>\n      <td>Nintendo</td>\n      <td>29.08</td>\n      <td>3.58</td>\n      <td>6.81</td>\n      <td>0.77</td>\n      <td>40.24</td>\n      <td>NaN</td>\n      <td>NaN</td>\n      <td>NaN</td>\n      <td>NaN</td>\n      <td>NaN</td>\n      <td>NaN</td>\n    </tr>\n    <tr>\n      <th>2</th>\n      <td>Mario Kart Wii</td>\n      <td>Wii</td>\n      <td>2008.0</td>\n      <td>Racing</td>\n      <td>Nintendo</td>\n      <td>15.68</td>\n      <td>12.76</td>\n      <td>3.79</td>\n      <td>3.29</td>\n      <td>35.52</td>\n      <td>82.0</td>\n      <td>73.0</td>\n      <td>8.3</td>\n      <td>709.0</td>\n      <td>Nintendo</td>\n      <td>E</td>\n    </tr>\n    <tr>\n      <th>3</th>\n      <td>Wii Sports Resort</td>\n      <td>Wii</td>\n      <td>2009.0</td>\n      <td>Sports</td>\n      <td>Nintendo</td>\n      <td>15.61</td>\n      <td>10.93</td>\n      <td>3.28</td>\n      <td>2.95</td>\n      <td>32.77</td>\n      <td>80.0</td>\n      <td>73.0</td>\n      <td>8</td>\n      <td>192.0</td>\n      <td>Nintendo</td>\n      <td>E</td>\n    </tr>\n    <tr>\n      <th>4</th>\n      <td>Pokemon Red/Pokemon Blue</td>\n      <td>GB</td>\n      <td>1996.0</td>\n      <td>Role-Playing</td>\n      <td>Nintendo</td>\n      <td>11.27</td>\n      <td>8.89</td>\n      <td>10.22</td>\n      <td>1.00</td>\n      <td>31.37</td>\n      <td>NaN</td>\n      <td>NaN</td>\n      <td>NaN</td>\n      <td>NaN</td>\n      <td>NaN</td>\n      <td>NaN</td>\n    </tr>\n  </tbody>\n</table>\n</div>"
     },
     "metadata": {},
     "output_type": "display_data"
    },
    {
     "name": "stdout",
     "output_type": "stream",
     "text": [
      "\n",
      "Dataset summary:\n",
      "<class 'pandas.core.frame.DataFrame'>\n",
      "RangeIndex: 16719 entries, 0 to 16718\n",
      "Data columns (total 16 columns):\n",
      " #   Column           Non-Null Count  Dtype  \n",
      "---  ------           --------------  -----  \n",
      " 0   Name             16717 non-null  object \n",
      " 1   Platform         16719 non-null  object \n",
      " 2   Year_of_Release  16450 non-null  float64\n",
      " 3   Genre            16717 non-null  object \n",
      " 4   Publisher        16665 non-null  object \n",
      " 5   NA_Sales         16719 non-null  float64\n",
      " 6   EU_Sales         16719 non-null  float64\n",
      " 7   JP_Sales         16719 non-null  float64\n",
      " 8   Other_Sales      16719 non-null  float64\n",
      " 9   Global_Sales     16719 non-null  float64\n",
      " 10  Critic_Score     8137 non-null   float64\n",
      " 11  Critic_Count     8137 non-null   float64\n",
      " 12  User_Score       10015 non-null  object \n",
      " 13  User_Count       7590 non-null   float64\n",
      " 14  Developer        10096 non-null  object \n",
      " 15  Rating           9950 non-null   object \n",
      "dtypes: float64(9), object(7)\n",
      "memory usage: 2.0+ MB\n"
     ]
    },
    {
     "data": {
      "text/plain": "None"
     },
     "metadata": {},
     "output_type": "display_data"
    },
    {
     "name": "stdout",
     "output_type": "stream",
     "text": [
      "\n",
      "Basic statistics for numerical columns:\n"
     ]
    },
    {
     "data": {
      "text/plain": "       Year_of_Release      NA_Sales      EU_Sales      JP_Sales  \\\ncount     16450.000000  16719.000000  16719.000000  16719.000000   \nmean       2006.487356      0.263330      0.145025      0.077602   \nstd           5.878995      0.813514      0.503283      0.308818   \nmin        1980.000000      0.000000      0.000000      0.000000   \n25%        2003.000000      0.000000      0.000000      0.000000   \n50%        2007.000000      0.080000      0.020000      0.000000   \n75%        2010.000000      0.240000      0.110000      0.040000   \nmax        2020.000000     41.360000     28.960000     10.220000   \n\n        Other_Sales  Global_Sales  Critic_Score  Critic_Count    User_Count  \ncount  16719.000000  16719.000000   8137.000000   8137.000000   7590.000000  \nmean       0.047332      0.533543     68.967679     26.360821    162.229908  \nstd        0.186710      1.547935     13.938165     18.980495    561.282326  \nmin        0.000000      0.010000     13.000000      3.000000      4.000000  \n25%        0.000000      0.060000     60.000000     12.000000     10.000000  \n50%        0.010000      0.170000     71.000000     21.000000     24.000000  \n75%        0.030000      0.470000     79.000000     36.000000     81.000000  \nmax       10.570000     82.530000     98.000000    113.000000  10665.000000  ",
      "text/html": "<div>\n<style scoped>\n    .dataframe tbody tr th:only-of-type {\n        vertical-align: middle;\n    }\n\n    .dataframe tbody tr th {\n        vertical-align: top;\n    }\n\n    .dataframe thead th {\n        text-align: right;\n    }\n</style>\n<table border=\"1\" class=\"dataframe\">\n  <thead>\n    <tr style=\"text-align: right;\">\n      <th></th>\n      <th>Year_of_Release</th>\n      <th>NA_Sales</th>\n      <th>EU_Sales</th>\n      <th>JP_Sales</th>\n      <th>Other_Sales</th>\n      <th>Global_Sales</th>\n      <th>Critic_Score</th>\n      <th>Critic_Count</th>\n      <th>User_Count</th>\n    </tr>\n  </thead>\n  <tbody>\n    <tr>\n      <th>count</th>\n      <td>16450.000000</td>\n      <td>16719.000000</td>\n      <td>16719.000000</td>\n      <td>16719.000000</td>\n      <td>16719.000000</td>\n      <td>16719.000000</td>\n      <td>8137.000000</td>\n      <td>8137.000000</td>\n      <td>7590.000000</td>\n    </tr>\n    <tr>\n      <th>mean</th>\n      <td>2006.487356</td>\n      <td>0.263330</td>\n      <td>0.145025</td>\n      <td>0.077602</td>\n      <td>0.047332</td>\n      <td>0.533543</td>\n      <td>68.967679</td>\n      <td>26.360821</td>\n      <td>162.229908</td>\n    </tr>\n    <tr>\n      <th>std</th>\n      <td>5.878995</td>\n      <td>0.813514</td>\n      <td>0.503283</td>\n      <td>0.308818</td>\n      <td>0.186710</td>\n      <td>1.547935</td>\n      <td>13.938165</td>\n      <td>18.980495</td>\n      <td>561.282326</td>\n    </tr>\n    <tr>\n      <th>min</th>\n      <td>1980.000000</td>\n      <td>0.000000</td>\n      <td>0.000000</td>\n      <td>0.000000</td>\n      <td>0.000000</td>\n      <td>0.010000</td>\n      <td>13.000000</td>\n      <td>3.000000</td>\n      <td>4.000000</td>\n    </tr>\n    <tr>\n      <th>25%</th>\n      <td>2003.000000</td>\n      <td>0.000000</td>\n      <td>0.000000</td>\n      <td>0.000000</td>\n      <td>0.000000</td>\n      <td>0.060000</td>\n      <td>60.000000</td>\n      <td>12.000000</td>\n      <td>10.000000</td>\n    </tr>\n    <tr>\n      <th>50%</th>\n      <td>2007.000000</td>\n      <td>0.080000</td>\n      <td>0.020000</td>\n      <td>0.000000</td>\n      <td>0.010000</td>\n      <td>0.170000</td>\n      <td>71.000000</td>\n      <td>21.000000</td>\n      <td>24.000000</td>\n    </tr>\n    <tr>\n      <th>75%</th>\n      <td>2010.000000</td>\n      <td>0.240000</td>\n      <td>0.110000</td>\n      <td>0.040000</td>\n      <td>0.030000</td>\n      <td>0.470000</td>\n      <td>79.000000</td>\n      <td>36.000000</td>\n      <td>81.000000</td>\n    </tr>\n    <tr>\n      <th>max</th>\n      <td>2020.000000</td>\n      <td>41.360000</td>\n      <td>28.960000</td>\n      <td>10.220000</td>\n      <td>10.570000</td>\n      <td>82.530000</td>\n      <td>98.000000</td>\n      <td>113.000000</td>\n      <td>10665.000000</td>\n    </tr>\n  </tbody>\n</table>\n</div>"
     },
     "metadata": {},
     "output_type": "display_data"
    },
    {
     "name": "stdout",
     "output_type": "stream",
     "text": [
      "\n",
      "List of columns:\n",
      "Name: Name of the video game\n",
      "Platform: Platform of the video game release (e.g., PS4, Xbox One, PC)\n",
      "Year_of_Release: Year of release of the video game\n",
      "Genre: Genre of the video game (e.g., Action, Sports, RPG)\n",
      "Publisher: Publisher of the video game\n",
      "NA_Sales: Sales in North America (in millions)\n",
      "EU_Sales: Sales in Europe (in millions)\n",
      "JP_Sales: Sales in Japan (in millions)\n",
      "Other_Sales: Sales in other regions (in millions)\n",
      "Global_Sales: Total worldwide sales (in millions)\n",
      "Critic_Score: Aggregate score compiled by Metacritic staff (0-100)\n",
      "Critic_Count: Number of critic reviews counted towards the Critic Score\n",
      "User_Score: Score by Metacritic’s subscribers (0-10)\n",
      "User_Count: Number of user reviews counted towards the User Score\n",
      "Developer: Developer of the video game\n",
      "Rating: ESRB rating (e.g., E for Everyone, M for Mature)\n",
      "\n",
      "Number of missing values in each column:\n"
     ]
    },
    {
     "data": {
      "text/plain": "Name                  2\nPlatform              0\nYear_of_Release     269\nGenre                 2\nPublisher            54\nNA_Sales              0\nEU_Sales              0\nJP_Sales              0\nOther_Sales           0\nGlobal_Sales          0\nCritic_Score       8582\nCritic_Count       8582\nUser_Score         6704\nUser_Count         9129\nDeveloper          6623\nRating             6769\ndtype: int64"
     },
     "metadata": {},
     "output_type": "display_data"
    }
   ],
   "source": [
    "# Loading the dataset\n",
    "file_path = '../data/Video_Games_Sales_as_at_22_Dec_2016.csv'\n",
    "df = pd.read_csv(file_path)\n",
    "\n",
    "# Display the first few rows of the dataset\n",
    "print(\"First few rows of the dataset:\")\n",
    "display(df.head())\n",
    "\n",
    "# Display the summary of the dataset\n",
    "print(\"\\nDataset summary:\")\n",
    "display(df.info())\n",
    "\n",
    "# Display basic statistics for numerical columns\n",
    "print(\"\\nBasic statistics for numerical columns:\")\n",
    "display(df.describe())\n",
    "\n",
    "# Display the list of columns and their descriptions\n",
    "print(\"\\nList of columns:\")\n",
    "columns = {\n",
    "    'Name': 'Name of the video game',\n",
    "    'Platform': 'Platform of the video game release (e.g., PS4, Xbox One, PC)',\n",
    "    'Year_of_Release': 'Year of release of the video game',\n",
    "    'Genre': 'Genre of the video game (e.g., Action, Sports, RPG)',\n",
    "    'Publisher': 'Publisher of the video game',\n",
    "    'NA_Sales': 'Sales in North America (in millions)',\n",
    "    'EU_Sales': 'Sales in Europe (in millions)',\n",
    "    'JP_Sales': 'Sales in Japan (in millions)',\n",
    "    'Other_Sales': 'Sales in other regions (in millions)',\n",
    "    'Global_Sales': 'Total worldwide sales (in millions)',\n",
    "    'Critic_Score': 'Aggregate score compiled by Metacritic staff (0-100)',\n",
    "    'Critic_Count': 'Number of critic reviews counted towards the Critic Score',\n",
    "    'User_Score': 'Score by Metacritic’s subscribers (0-10)',\n",
    "    'User_Count': 'Number of user reviews counted towards the User Score',\n",
    "    'Developer': 'Developer of the video game',\n",
    "    'Rating': 'ESRB rating (e.g., E for Everyone, M for Mature)',\n",
    "}\n",
    "for col, desc in columns.items():\n",
    "    print(f\"{col}: {desc}\")\n",
    "\n",
    "# Display the number of missing values in each column\n",
    "print(\"\\nNumber of missing values in each column:\")\n",
    "display(df.isnull().sum())"
   ],
   "metadata": {
    "collapsed": false,
    "ExecuteTime": {
     "end_time": "2024-06-20T06:31:47.943063Z",
     "start_time": "2024-06-20T06:31:47.780123Z"
    }
   }
  },
  {
   "cell_type": "markdown",
   "source": [
    "**Summary of Dataset Overview**\n",
    "\n",
    "In this section, we have loaded the `Video_Games_Sales_as_at_22_Dec_2016.csv` dataset and provided an overview of its structure and contents. We displayed the first few rows to get an initial glimpse of the data, summarized the dataset's attributes, and highlighted the key features. Additionally, we listed the columns with their descriptions and identified missing values in the dataset. This comprehensive overview sets the stage for deeper exploratory data analysis and subsequent steps in building our recommendation system."
   ],
   "metadata": {
    "collapsed": false
   }
  },
  {
   "cell_type": "code",
   "execution_count": null,
   "outputs": [],
   "source": [],
   "metadata": {
    "collapsed": false
   }
  },
  {
   "cell_type": "code",
   "execution_count": null,
   "outputs": [],
   "source": [],
   "metadata": {
    "collapsed": false
   }
  },
  {
   "cell_type": "code",
   "execution_count": null,
   "outputs": [],
   "source": [],
   "metadata": {
    "collapsed": false
   }
  }
 ],
 "metadata": {
  "kernelspec": {
   "display_name": "Python 3",
   "language": "python",
   "name": "python3"
  },
  "language_info": {
   "codemirror_mode": {
    "name": "ipython",
    "version": 2
   },
   "file_extension": ".py",
   "mimetype": "text/x-python",
   "name": "python",
   "nbconvert_exporter": "python",
   "pygments_lexer": "ipython2",
   "version": "2.7.6"
  }
 },
 "nbformat": 4,
 "nbformat_minor": 0
}
